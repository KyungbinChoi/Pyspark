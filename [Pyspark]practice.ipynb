{
 "cells": [
  {
   "cell_type": "markdown",
   "id": "chemical-pizza",
   "metadata": {},
   "source": [
    "## Pyspark 연습\n",
    "* Basic Data handling\n",
    "* Descriptive summary\n",
    "* Feature extraction\n",
    "* Build ML model\n",
    "\n",
    "* 참고\n",
    "    * https://spark.apache.org/docs/2.2.0/mllib-statistics.html\n",
    "    * https://jaeyung1001.tistory.com/59\n",
    "    * https://hendra-herviawan.github.io/pyspark-dataframe-row-columns.html\n",
    "    * https://hendra-herviawan.github.io/pyspark-groupby-and-aggregate-functions.html"
   ]
  },
  {
   "cell_type": "code",
   "execution_count": 1,
   "id": "informative-passenger",
   "metadata": {},
   "outputs": [
    {
     "data": {
      "text/html": [
       "\n",
       "            <div>\n",
       "                <p><b>SparkSession - in-memory</b></p>\n",
       "                \n",
       "        <div>\n",
       "            <p><b>SparkContext</b></p>\n",
       "\n",
       "            <p><a href=\"http://192.168.219.103:4040\">Spark UI</a></p>\n",
       "\n",
       "            <dl>\n",
       "              <dt>Version</dt>\n",
       "                <dd><code>v2.4.8</code></dd>\n",
       "              <dt>Master</dt>\n",
       "                <dd><code>local[*]</code></dd>\n",
       "              <dt>AppName</dt>\n",
       "                <dd><code>pyspark-shell</code></dd>\n",
       "            </dl>\n",
       "        </div>\n",
       "        \n",
       "            </div>\n",
       "        "
      ],
      "text/plain": [
       "<pyspark.sql.session.SparkSession at 0x253b350bfd0>"
      ]
     },
     "execution_count": 1,
     "metadata": {},
     "output_type": "execute_result"
    }
   ],
   "source": [
    "from pyspark.sql import SparkSession\n",
    "from pyspark.sql import functions as F\n",
    "from pyspark.sql.types import StringType\n",
    "import pandas as pd\n",
    "from datetime import datetime, date\n",
    "spark = SparkSession.builder.getOrCreate()\n",
    "spark"
   ]
  },
  {
   "cell_type": "raw",
   "id": "sapphire-hypothesis",
   "metadata": {},
   "source": [
    "pandas_df = pd.DataFrame({\n",
    "    'a': [1, 2, 3],\n",
    "    'b': [2., 3., 4.],\n",
    "    'c': ['string1', 'string2', 'string3'],\n",
    "    'd': [date(2000, 1, 1), date(2000, 2, 1), date(2000, 3, 1)],\n",
    "    'e': [datetime(2000, 1, 1, 12, 0), datetime(2000, 1, 2, 12, 0), datetime(2000, 1, 3, 12, 0)]\n",
    "})\n",
    "df = spark.createDataFrame(pandas_df)\n",
    "df"
   ]
  },
  {
   "cell_type": "raw",
   "id": "circular-notion",
   "metadata": {},
   "source": [
    "df.printSchema()"
   ]
  },
  {
   "cell_type": "raw",
   "id": "revolutionary-tamil",
   "metadata": {},
   "source": [
    "df.select(df.c).show()"
   ]
  },
  {
   "cell_type": "raw",
   "id": "tested-palestine",
   "metadata": {},
   "source": [
    "df.show()"
   ]
  },
  {
   "cell_type": "raw",
   "id": "intense-substance",
   "metadata": {},
   "source": [
    "df.repartition(1).count()"
   ]
  },
  {
   "cell_type": "code",
   "execution_count": 2,
   "id": "veterinary-ceremony",
   "metadata": {},
   "outputs": [],
   "source": [
    "df = spark.read.csv('./dataset/clickstream/total_datapoint.csv', inferSchema=True, header=True)"
   ]
  },
  {
   "cell_type": "code",
   "execution_count": 3,
   "id": "spiritual-honduras",
   "metadata": {},
   "outputs": [
    {
     "data": {
      "text/plain": [
       "8772446"
      ]
     },
     "execution_count": 3,
     "metadata": {},
     "output_type": "execute_result"
    }
   ],
   "source": [
    "df.count()"
   ]
  },
  {
   "cell_type": "code",
   "execution_count": 4,
   "id": "retained-leeds",
   "metadata": {},
   "outputs": [
    {
     "name": "stdout",
     "output_type": "stream",
     "text": [
      "root\n",
      " |-- _c0: integer (nullable = true)\n",
      " |-- CUS_ID: integer (nullable = true)\n",
      " |-- TIME_ID: integer (nullable = true)\n",
      " |-- SITE: string (nullable = true)\n",
      " |-- SITE_CNT: double (nullable = true)\n",
      " |-- ST_TIME: double (nullable = true)\n",
      " |-- SITE_NM: string (nullable = true)\n",
      " |-- BACT_NM: string (nullable = true)\n",
      " |-- MACT_NM: string (nullable = true)\n",
      " |-- ACT_NM: string (nullable = true)\n",
      " |-- AC_TIME: integer (nullable = true)\n",
      " |-- YY_MM_DD: integer (nullable = true)\n",
      " |-- DAY: integer (nullable = true)\n",
      "\n"
     ]
    }
   ],
   "source": [
    "df.printSchema()"
   ]
  },
  {
   "cell_type": "code",
   "execution_count": 5,
   "id": "quarterly-trustee",
   "metadata": {},
   "outputs": [
    {
     "name": "stdout",
     "output_type": "stream",
     "text": [
      "+---+------+----------+--------------------+--------+-------+-----------------------+-------------+------------+-------------+-------+--------+---+\n",
      "|_c0|CUS_ID|   TIME_ID|                SITE|SITE_CNT|ST_TIME|                SITE_NM|      BACT_NM|     MACT_NM|       ACT_NM|AC_TIME|YY_MM_DD|DAY|\n",
      "+---+------+----------+--------------------+--------+-------+-----------------------+-------------+------------+-------------+-------+--------+---+\n",
      "|  0|     1|2012070905|    search.naver.com|     3.0|  794.0|            네이버 검색|인터넷/컴퓨터|        검색|     포털검색|      5|20120709|  0|\n",
      "|  1|     1|2012072507|     plus.google.com|     1.0|    1.0|              구글 Plus|     커뮤니티|  블로그/SNS|          SNS|      7|20120725|  2|\n",
      "|  2|     1|2012081116|joongang.joinsmsn...|     2.0|    5.0|               중앙일보|  뉴스/미디어|      일간지|   종합일간지|     16|20120811|  5|\n",
      "|  3|     1|2012090304|      news.naver.com|     5.0|  504.0|            네이버 뉴스|  뉴스/미디어|  인터넷신문|     포털뉴스|      4|20120903|  0|\n",
      "|  4|     1|2012090506|       news.nate.com|     1.0|    0.0|            네이트 뉴스|  뉴스/미디어|  인터넷신문|     포털뉴스|      6|20120905|  2|\n",
      "|  5|     1|2012091004|     plus.google.com|     2.0|   66.0|              구글 Plus|     커뮤니티|  블로그/SNS|          SNS|      4|20120910|  0|\n",
      "|  6|     1|2012092017|     plus.google.com|     2.0|   23.0|              구글 Plus|     커뮤니티|  블로그/SNS|          SNS|     17|20120920|  3|\n",
      "|  7|     1|2012122801|      news.naver.com|     3.0|  213.0|            네이버 뉴스|  뉴스/미디어|  인터넷신문|     포털뉴스|      1|20121228|  4|\n",
      "|  8|     1|2012123114|    search.naver.com|     1.0|    0.0|            네이버 검색|인터넷/컴퓨터|        검색|     포털검색|     14|20121231|  0|\n",
      "|  9|     1|2013061008|      blog.naver.com|     1.0|   46.0|          네이버 블로그|     커뮤니티|  블로그/SNS|   포털블로그|      8|20130610|  0|\n",
      "| 10|    10|2012091311|   bm.gametree.co.kr|     1.0|   12.0|        프로야구 매니저|         게임|  온라인게임|스포츠/레이싱|     11|20120913|  3|\n",
      "| 11|    10|2012100410|      news.naver.com|     6.0| 1127.0|            네이버 뉴스|  뉴스/미디어|  인터넷신문|     포털뉴스|     10|20121004|  3|\n",
      "| 12|    10|2012121811|koreajoongangdail...|     1.0|    6.0|조인스 코리아중앙데일리|  뉴스/미디어|    전문뉴스|외국신문/잡지|     11|20121218|  1|\n",
      "| 13|    10|2013010809| ma9gm.netmarble.net|     7.0|  291.0|  넷마블 마구감독이되자|         게임|  온라인게임|스포츠/레이싱|      9|20130108|  1|\n",
      "| 14|    10|2013011019| isplus.joinsmsn.com|     1.0|   12.0|             일간스포츠|  뉴스/미디어|    전문뉴스|   스포츠신문|     19|20130110|  3|\n",
      "| 15|    10|2013011809|   bm.gametree.co.kr|     4.0|  546.0|        프로야구 매니저|         게임|  온라인게임|스포츠/레이싱|      9|20130118|  4|\n",
      "| 16|   100|2012081810|      apps.naver.com|     1.0|    3.0|        네이버 앱팩토리|인터넷/컴퓨터|    웹서비스|  소셜앱/위젯|     10|20120818|  5|\n",
      "| 17|   100|2012082111|       hon.mgame.com|     3.0|   76.0|                   귀혼|         게임|  온라인게임|       MMORPG|     11|20120821|  1|\n",
      "| 18|   100|2012082414|section.blog.nave...|     1.0|    0.0|          네이버 블로그|     커뮤니티|  블로그/SNS|   포털블로그|     14|20120824|  4|\n",
      "| 19|   100|2012090809|      mail3.nate.com|     1.0|    4.0|            네이트 메일|인터넷/컴퓨터|커뮤니케이션|     메일계정|      9|20120908|  5|\n",
      "+---+------+----------+--------------------+--------+-------+-----------------------+-------------+------------+-------------+-------+--------+---+\n",
      "only showing top 20 rows\n",
      "\n"
     ]
    }
   ],
   "source": [
    "df.show()"
   ]
  },
  {
   "cell_type": "code",
   "execution_count": 6,
   "id": "gentle-singer",
   "metadata": {},
   "outputs": [],
   "source": [
    "df = df.withColumn('TIME_ID', df['TIME_ID'].cast(StringType()))"
   ]
  },
  {
   "cell_type": "code",
   "execution_count": 7,
   "id": "comparable-turkey",
   "metadata": {},
   "outputs": [
    {
     "name": "stdout",
     "output_type": "stream",
     "text": [
      "root\n",
      " |-- _c0: integer (nullable = true)\n",
      " |-- CUS_ID: integer (nullable = true)\n",
      " |-- TIME_ID: string (nullable = true)\n",
      " |-- SITE: string (nullable = true)\n",
      " |-- SITE_CNT: double (nullable = true)\n",
      " |-- ST_TIME: double (nullable = true)\n",
      " |-- SITE_NM: string (nullable = true)\n",
      " |-- BACT_NM: string (nullable = true)\n",
      " |-- MACT_NM: string (nullable = true)\n",
      " |-- ACT_NM: string (nullable = true)\n",
      " |-- AC_TIME: integer (nullable = true)\n",
      " |-- YY_MM_DD: integer (nullable = true)\n",
      " |-- DAY: integer (nullable = true)\n",
      "\n"
     ]
    }
   ],
   "source": [
    "df.printSchema()"
   ]
  },
  {
   "cell_type": "code",
   "execution_count": 8,
   "id": "incident-desperate",
   "metadata": {},
   "outputs": [],
   "source": [
    "df = df.withColumn('new_date',F.to_date(F.unix_timestamp('TIME_ID', 'yyyyMMddHH').cast('timestamp')))"
   ]
  },
  {
   "cell_type": "code",
   "execution_count": 9,
   "id": "frozen-begin",
   "metadata": {},
   "outputs": [
    {
     "name": "stdout",
     "output_type": "stream",
     "text": [
      "root\n",
      " |-- _c0: integer (nullable = true)\n",
      " |-- CUS_ID: integer (nullable = true)\n",
      " |-- TIME_ID: string (nullable = true)\n",
      " |-- SITE: string (nullable = true)\n",
      " |-- SITE_CNT: double (nullable = true)\n",
      " |-- ST_TIME: double (nullable = true)\n",
      " |-- SITE_NM: string (nullable = true)\n",
      " |-- BACT_NM: string (nullable = true)\n",
      " |-- MACT_NM: string (nullable = true)\n",
      " |-- ACT_NM: string (nullable = true)\n",
      " |-- AC_TIME: integer (nullable = true)\n",
      " |-- YY_MM_DD: integer (nullable = true)\n",
      " |-- DAY: integer (nullable = true)\n",
      " |-- new_date: date (nullable = true)\n",
      "\n"
     ]
    }
   ],
   "source": [
    "df.printSchema()"
   ]
  },
  {
   "cell_type": "code",
   "execution_count": 10,
   "id": "owned-cambridge",
   "metadata": {},
   "outputs": [
    {
     "name": "stdout",
     "output_type": "stream",
     "text": [
      "+-------+------------------+------------------+--------------------+-------------+------------------+------------------+-----------------+---------+-------+--------------------+-----------------+-------------------+------------------+\n",
      "|summary|               _c0|            CUS_ID|             TIME_ID|         SITE|          SITE_CNT|           ST_TIME|          SITE_NM|  BACT_NM|MACT_NM|              ACT_NM|          AC_TIME|           YY_MM_DD|               DAY|\n",
      "+-------+------------------+------------------+--------------------+-------------+------------------+------------------+-----------------+---------+-------+--------------------+-----------------+-------------------+------------------+\n",
      "|  count|           8772446|           8772446|             8772446|      8772446|           8772446|           8772439|          8772446|  8772446|8772446|             8772446|          8772446|            8772446|           8772446|\n",
      "|   mean|4066912.0803559236|1239.7318502730025|2.0125272150174336E9|         null| 5.478712094665502|134.85187802388822|92563.24561403508|     null|   null|                null|13.65875082046672|2.012527069414266E7|2.4719375873046125|\n",
      "| stddev|2512175.4803153165| 730.6480192240923|   466576.6529994813|         null|11.282212254464055| 299.9778640844884|942953.8971450401|     null|   null|                null|5.253843148457847|  4665.472537718423|1.7965582093128143|\n",
      "|    min|                 0|                 1|          2012070100|007skyfall.kr|               1.0|               0.0|         드림앤락|건강/의학|    B2B|             A/S센터|                0|           20120701|                 0|\n",
      "|    max|           8440580|              2500|          2013063023|     zzve.com|            1158.0|           25274.0|     힙합플레이야|     학문|   환경|휴대폰악세사리쇼핑몰|               23|           20130630|                 6|\n",
      "+-------+------------------+------------------+--------------------+-------------+------------------+------------------+-----------------+---------+-------+--------------------+-----------------+-------------------+------------------+\n",
      "\n"
     ]
    }
   ],
   "source": [
    "df.describe().show()"
   ]
  },
  {
   "cell_type": "code",
   "execution_count": 27,
   "id": "vital-armor",
   "metadata": {},
   "outputs": [
    {
     "name": "stdout",
     "output_type": "stream",
     "text": [
      "+-------+------------------+\n",
      "|summary|          SITE_CNT|\n",
      "+-------+------------------+\n",
      "|  count|           8772446|\n",
      "|   mean| 5.478712094665502|\n",
      "| stddev|11.282212254464055|\n",
      "|    min|               1.0|\n",
      "|    max|            1158.0|\n",
      "+-------+------------------+\n",
      "\n"
     ]
    }
   ],
   "source": [
    "df.describe(['SITE_CNT']).show()"
   ]
  },
  {
   "cell_type": "code",
   "execution_count": 29,
   "id": "blind-newton",
   "metadata": {},
   "outputs": [
    {
     "name": "stdout",
     "output_type": "stream",
     "text": [
      "+-------+------------------+\n",
      "|summary|           ST_TIME|\n",
      "+-------+------------------+\n",
      "|  count|           8772439|\n",
      "|   mean|134.85187802388822|\n",
      "| stddev| 299.9778640844884|\n",
      "|    min|               0.0|\n",
      "|    max|           25274.0|\n",
      "+-------+------------------+\n",
      "\n"
     ]
    }
   ],
   "source": [
    "df.describe(['ST_TIME']).show()"
   ]
  },
  {
   "cell_type": "code",
   "execution_count": 11,
   "id": "swedish-example",
   "metadata": {},
   "outputs": [
    {
     "name": "stdout",
     "output_type": "stream",
     "text": [
      "+-----------------+-------+\n",
      "|             SITE|  count|\n",
      "+-----------------+-------+\n",
      "|    www.naver.com|1169663|\n",
      "| search.naver.com| 611978|\n",
      "|     www.daum.net| 547982|\n",
      "|     www.nate.com| 283289|\n",
      "|   blog.naver.com| 239893|\n",
      "|  search.daum.net| 184816|\n",
      "|   cafe.naver.com| 177760|\n",
      "|   media.daum.net| 171983|\n",
      "|   mail.naver.com| 157803|\n",
      "|sstatic.naver.com| 153910|\n",
      "|    kin.naver.com| 149198|\n",
      "|   mail2.daum.net| 141135|\n",
      "|    cafe.daum.net| 114749|\n",
      "|   news.naver.com| 109648|\n",
      "|   mail3.nate.com| 100717|\n",
      "| www.facebook.com|  83023|\n",
      "|   www.11st.co.kr|  80509|\n",
      "|www.gmarket.co.kr|  78882|\n",
      "|    news.nate.com|  76211|\n",
      "|    map.naver.com|  70262|\n",
      "+-----------------+-------+\n",
      "only showing top 20 rows\n",
      "\n"
     ]
    }
   ],
   "source": [
    "df.groupBy('SITE').count().orderBy('count', ascending=False).show()"
   ]
  },
  {
   "cell_type": "code",
   "execution_count": 12,
   "id": "continental-bathroom",
   "metadata": {},
   "outputs": [
    {
     "name": "stdout",
     "output_type": "stream",
     "text": [
      "+-----------+\n",
      "|unique site|\n",
      "+-----------+\n",
      "|      36911|\n",
      "+-----------+\n",
      "\n"
     ]
    }
   ],
   "source": [
    "df.select(F.countDistinct(\"SITE\").alias(\"unique site\")).show()"
   ]
  },
  {
   "cell_type": "code",
   "execution_count": 13,
   "id": "bizarre-accuracy",
   "metadata": {},
   "outputs": [
    {
     "name": "stdout",
     "output_type": "stream",
     "text": [
      "+---------------+-------+\n",
      "|        SITE_NM|  count|\n",
      "+---------------+-------+\n",
      "|         네이버|1171030|\n",
      "|    네이버 검색| 982165|\n",
      "|           다음| 548509|\n",
      "|         네이트| 283489|\n",
      "|  네이버 블로그| 251179|\n",
      "|      다음 검색| 208533|\n",
      "|    네이버 카페| 182038|\n",
      "|     미디어다음| 171983|\n",
      "|      다음 메일| 163606|\n",
      "|    네이버 메일| 161696|\n",
      "|      다음 카페| 144828|\n",
      "|    네이버 뉴스| 134934|\n",
      "|    네이트 메일| 131739|\n",
      "|    네이트 뉴스| 129788|\n",
      "|          G마켓|  83757|\n",
      "|       페이스북|  83268|\n",
      "|  네이버 지식iN|  81095|\n",
      "|         11번가|  80637|\n",
      "|네이버 지식쇼핑|  62060|\n",
      "|     KB국민은행|  53519|\n",
      "+---------------+-------+\n",
      "only showing top 20 rows\n",
      "\n"
     ]
    }
   ],
   "source": [
    "df.groupBy('SITE_NM').count().orderBy('count', ascending=False).show()"
   ]
  },
  {
   "cell_type": "code",
   "execution_count": 14,
   "id": "administrative-second",
   "metadata": {},
   "outputs": [
    {
     "name": "stdout",
     "output_type": "stream",
     "text": [
      "+--------------+\n",
      "|unique SITE_NM|\n",
      "+--------------+\n",
      "|         28876|\n",
      "+--------------+\n",
      "\n"
     ]
    }
   ],
   "source": [
    "df.select(F.countDistinct(\"SITE_NM\").alias(\"unique SITE_NM\")).show()"
   ]
  },
  {
   "cell_type": "code",
   "execution_count": 15,
   "id": "veterinary-bradford",
   "metadata": {},
   "outputs": [
    {
     "name": "stdout",
     "output_type": "stream",
     "text": [
      "+--------------+-------+\n",
      "|       BACT_NM|  count|\n",
      "+--------------+-------+\n",
      "| 인터넷/컴퓨터|4189770|\n",
      "|   뉴스/미디어|1292845|\n",
      "|          쇼핑|1128331|\n",
      "|      커뮤니티| 975819|\n",
      "|   금융/부동산| 317316|\n",
      "|  엔터테인먼트| 205825|\n",
      "|          게임| 124541|\n",
      "| 비즈니스/경제|  87964|\n",
      "|     정치/행정|  80489|\n",
      "|    온라인교육|  60128|\n",
      "|   정보통신/IT|  55450|\n",
      "|        서비스|  46611|\n",
      "|생활/가정/취미|  37293|\n",
      "|          여행|  36060|\n",
      "|     교육/학원|  29876|\n",
      "|유통/판매/운송|  28359|\n",
      "|          제조|  23227|\n",
      "|     건강/의학|  17802|\n",
      "|   스포츠/레저|  15501|\n",
      "|사회/문화/종교|  12657|\n",
      "+--------------+-------+\n",
      "only showing top 20 rows\n",
      "\n"
     ]
    }
   ],
   "source": [
    "df.groupBy('BACT_NM').count().orderBy('count', ascending=False).show()"
   ]
  },
  {
   "cell_type": "code",
   "execution_count": 16,
   "id": "restricted-tulsa",
   "metadata": {},
   "outputs": [
    {
     "name": "stdout",
     "output_type": "stream",
     "text": [
      "+--------------+\n",
      "|unique BACT_NM|\n",
      "+--------------+\n",
      "|            22|\n",
      "+--------------+\n",
      "\n"
     ]
    }
   ],
   "source": [
    "df.select(F.countDistinct(\"BACT_NM\").alias(\"unique BACT_NM\")).show()"
   ]
  },
  {
   "cell_type": "code",
   "execution_count": 17,
   "id": "english-consumer",
   "metadata": {},
   "outputs": [
    {
     "name": "stdout",
     "output_type": "stream",
     "text": [
      "+-----------------+-------+\n",
      "|          MACT_NM|  count|\n",
      "+-----------------+-------+\n",
      "|             포털|2080020|\n",
      "|             검색|1363454|\n",
      "|       인터넷신문| 560634|\n",
      "|         종합쇼핑| 520596|\n",
      "|       블로그/SNS| 511496|\n",
      "|     커뮤니케이션| 486011|\n",
      "|     커뮤니티포털| 388400|\n",
      "|         전문뉴스| 339706|\n",
      "|           일간지| 288721|\n",
      "|      의류 쇼핑몰| 266511|\n",
      "|             은행| 137752|\n",
      "|         다운로드| 113847|\n",
      "|         가격비교| 103431|\n",
      "|멀티미디어/동영상|  85128|\n",
      "|             방송|  76139|\n",
      "|       온라인게임|  60406|\n",
      "|         웹서비스|  53473|\n",
      "|             취업|  51231|\n",
      "|   분야별커뮤니티|  49216|\n",
      "|         쇼핑정보|  48528|\n",
      "+-----------------+-------+\n",
      "only showing top 20 rows\n",
      "\n"
     ]
    }
   ],
   "source": [
    "df.groupBy('MACT_NM').count().orderBy('count', ascending=False).show()"
   ]
  },
  {
   "cell_type": "code",
   "execution_count": 18,
   "id": "organizational-letters",
   "metadata": {},
   "outputs": [
    {
     "name": "stdout",
     "output_type": "stream",
     "text": [
      "+--------------+\n",
      "|unique MACT_NM|\n",
      "+--------------+\n",
      "|           207|\n",
      "+--------------+\n",
      "\n"
     ]
    }
   ],
   "source": [
    "df.select(F.countDistinct(\"MACT_NM\").alias(\"unique MACT_NM\")).show()"
   ]
  },
  {
   "cell_type": "code",
   "execution_count": 26,
   "id": "processed-preview",
   "metadata": {},
   "outputs": [
    {
     "name": "stdout",
     "output_type": "stream",
     "text": [
      "+---------------------+-------+\n",
      "|               ACT_NM|  count|\n",
      "+---------------------+-------+\n",
      "|             종합포털|2079071|\n",
      "|             포털검색|1235966|\n",
      "|             메일계정| 478821|\n",
      "|             포털뉴스| 452782|\n",
      "|         포털커뮤니티| 334921|\n",
      "|           포털블로그| 304635|\n",
      "|             오픈마켓| 255832|\n",
      "|       여성의류쇼핑몰| 179458|\n",
      "|           종합일간지| 166708|\n",
      "|                  SNS| 141637|\n",
      "|           종합쇼핑몰| 130269|\n",
      "|             시중은행| 129963|\n",
      "|           스포츠신문| 122358|\n",
      "|             경제신문| 121289|\n",
      "|           소셜커머스| 114148|\n",
      "|       종합인터넷신문| 106116|\n",
      "|         포털지식검색|  93483|\n",
      "|             포털쇼핑|  69933|\n",
      "|        동영상/비디오|  68634|\n",
      "|      컨텐츠공유(P2P)|  56878|\n",
      "|      위성/케이블채널|  51590|\n",
      "|               IT뉴스|  47595|\n",
      "|      연예/오락전문지|  44752|\n",
      "|    포털지도/지역정보|  41401|\n",
      "|             게임포털|  39564|\n",
      "|             포털금융|  38440|\n",
      "|           포털게시판|  34619|\n",
      "|             신용카드|  34114|\n",
      "|        외국신문/잡지|  34006|\n",
      "|             포털만화|  31860|\n",
      "|        종합구인/구직|  31336|\n",
      "|             지역뉴스|  31069|\n",
      "|             검색엔진|  29327|\n",
      "|             방송뉴스|  26920|\n",
      "|               MMORPG|  26055|\n",
      "|             포털사전|  26050|\n",
      "|           포털부동산|  25992|\n",
      "|         종합가격비교|  25633|\n",
      "|       종합도서쇼핑몰|  24847|\n",
      "|             소셜허브|  23789|\n",
      "|           포털모바일|  23401|\n",
      "|           웹스토리지|  22547|\n",
      "| 브랜드종합의류쇼핑몰|  22177|\n",
      "|               TV방송|  22072|\n",
      "|        스포츠/레이싱|  21961|\n",
      "|           개인블로그|  21052|\n",
      "|             포털영화|  20535|\n",
      "|       남성의류쇼핑몰|  20182|\n",
      "|       제품 리뷰/후기|  19655|\n",
      "|            택배/물류|  19505|\n",
      "|         커뮤니티포털|  18860|\n",
      "|            할인/쿠폰|  18370|\n",
      "|           토렌트정보|  17104|\n",
      "|       대형마트쇼핑몰|  16564|\n",
      "|            행정/민원|  16500|\n",
      "|         쇼핑몰솔루션|  16158|\n",
      "|           포털동영상|  15919|\n",
      "|           컨텐츠포털|  15902|\n",
      "|             포털증권|  15890|\n",
      "|               통신사|  15316|\n",
      "|           포털어린이|  15133|\n",
      "|           종합여행사|  14600|\n",
      "|         중고차쇼핑몰|  14593|\n",
      "|       전자세금계산서|  14536|\n",
      "|           아르바이트|  14247|\n",
      "|           자동차정보|  13113|\n",
      "| 브랜드여성의류쇼핑몰|  12686|\n",
      "|             사법기관|  12647|\n",
      "|             포털음악|  11956|\n",
      "|             게임웹진|  11840|\n",
      "|         중앙행정기관|  11737|\n",
      "|         고객지원센터|  10850|\n",
      "|            유머/재미|  10484|\n",
      "|               증권사|  10459|\n",
      "|         여성화전문몰|  10064|\n",
      "|선물/디자인소품쇼핑몰|   9911|\n",
      "|      패션몰링크/검색|   9862|\n",
      "|        증권/투자정보|   9830|\n",
      "|             음악감상|   9544|\n",
      "|          보안/암호화|   9413|\n",
      "|      패션/의류전문지|   9344|\n",
      "|       전자결제솔루션|   9179|\n",
      "|                 극장|   8939|\n",
      "|       메타소셜커머스|   8769|\n",
      "|        적립/할인카드|   8566|\n",
      "|        공공기업/경제|   8504|\n",
      "|             티켓예약|   8380|\n",
      "|       이동통신브랜드|   8325|\n",
      "|     트위터관련서비스|   8247|\n",
      "|            URL단순화|   8072|\n",
      "|         도서가격비교|   7847|\n",
      "|             로또정보|   7732|\n",
      "|        수능/대학입시|   7367|\n",
      "|       부동산종합정보|   7320|\n",
      "|        출산/육아정보|   7182|\n",
      "|     연예인의류쇼핑몰|   7009|\n",
      "|            액션/슈팅|   6926|\n",
      "|             포털게임|   6754|\n",
      "|      쇼핑몰/판매관리|   6651|\n",
      "|        기타 커뮤니티|   6649|\n",
      "+---------------------+-------+\n",
      "only showing top 100 rows\n",
      "\n"
     ]
    }
   ],
   "source": [
    "df.groupBy('ACT_NM').count().orderBy('count', ascending=False).show(100)"
   ]
  },
  {
   "cell_type": "code",
   "execution_count": 20,
   "id": "massive-archive",
   "metadata": {},
   "outputs": [
    {
     "name": "stdout",
     "output_type": "stream",
     "text": [
      "+-------------+\n",
      "|unique ACT_NM|\n",
      "+-------------+\n",
      "|         1216|\n",
      "+-------------+\n",
      "\n"
     ]
    }
   ],
   "source": [
    "df.select(F.countDistinct(\"ACT_NM\").alias(\"unique ACT_NM\")).show()"
   ]
  },
  {
   "cell_type": "markdown",
   "id": "complete-encyclopedia",
   "metadata": {},
   "source": [
    "## GROUPING 을 통한 Feature 생성하기\n",
    "* PAGEVIEW\n",
    "* DURATION\n",
    "* 시간대별 PAGEVIEW / DURATION \n",
    "* 요일별 PAGEVIEW / DURATION \n",
    "* BACT_NM duration 합\n",
    "* Top MACT_NM 50 duration 합\n",
    "* Top ACT_NM 500 duration 합 "
   ]
  },
  {
   "cell_type": "code",
   "execution_count": 21,
   "id": "fancy-phoenix",
   "metadata": {},
   "outputs": [
    {
     "data": {
      "text/plain": [
       "['_c0',\n",
       " 'CUS_ID',\n",
       " 'TIME_ID',\n",
       " 'SITE',\n",
       " 'SITE_CNT',\n",
       " 'ST_TIME',\n",
       " 'SITE_NM',\n",
       " 'BACT_NM',\n",
       " 'MACT_NM',\n",
       " 'ACT_NM',\n",
       " 'AC_TIME',\n",
       " 'YY_MM_DD',\n",
       " 'DAY',\n",
       " 'new_date']"
      ]
     },
     "execution_count": 21,
     "metadata": {},
     "output_type": "execute_result"
    }
   ],
   "source": [
    "df.columns"
   ]
  },
  {
   "cell_type": "code",
   "execution_count": 30,
   "id": "unlike-registration",
   "metadata": {},
   "outputs": [],
   "source": [
    "# user pageview\n",
    "pageview_sum = df.groupby(\"CUS_ID\").agg(F.sum(\"SITE_CNT\").alias(\"pg_sum\"))\n",
    "pageview_avg = df.groupby(\"CUS_ID\").agg(F.avg(\"SITE_CNT\").alias(\"pg_avg\"))"
   ]
  },
  {
   "cell_type": "code",
   "execution_count": 27,
   "id": "working-signal",
   "metadata": {},
   "outputs": [],
   "source": [
    "# user total duration\n",
    "duration_sum = df.groupby(\"CUS_ID\").agg(F.sum(\"ST_TIME\").alias(\"pg_sum\"))\n",
    "duration_avg = df.groupby(\"CUS_ID\").agg(F.avg(\"ST_TIME\").alias(\"pg_sum\"))"
   ]
  },
  {
   "cell_type": "code",
   "execution_count": 34,
   "id": "legendary-reflection",
   "metadata": {},
   "outputs": [],
   "source": [
    "# pageview / duration (sum) by time\n",
    "timeby_pg = df.groupby([\"CUS_ID\"]).pivot(\"AC_TIME\").agg(F.sum(\"SITE_CNT\"))\n",
    "timeby_dur = df.groupby([\"CUS_ID\"]).pivot(\"AC_TIME\").agg(F.sum(\"ST_TIME\"))"
   ]
  },
  {
   "cell_type": "code",
   "execution_count": 35,
   "id": "pediatric-character",
   "metadata": {},
   "outputs": [],
   "source": [
    "# pageview / duration (sum) by day\n",
    "dayby_pg = df.groupby([\"CUS_ID\"]).pivot(\"DAY\").agg(F.sum(\"SITE_CNT\"))\n",
    "dayby_dur = df.groupby([\"CUS_ID\"]).pivot(\"DAY\").agg(F.sum(\"ST_TIME\"))"
   ]
  },
  {
   "cell_type": "code",
   "execution_count": 48,
   "id": "hairy-perfume",
   "metadata": {},
   "outputs": [
    {
     "name": "stdout",
     "output_type": "stream",
     "text": [
      "+------+---------+-------+---------+-----------+-----------+---------+-------------+--------------+--------------+-------+--------+-----------+------------+------+----------+--------------+-------------+-----------+---------+------+--------+-----+\n",
      "|CUS_ID|건강/의학|   게임|교육/학원|금융/부동산|뉴스/미디어|문학/예술|비즈니스/경제|사회/문화/종교|생활/가정/취미| 서비스|    쇼핑|스포츠/레저|엔터테인먼트|  여행|온라인교육|유통/판매/운송|인터넷/컴퓨터|정보통신/IT|정치/행정|  제조|커뮤니티| 학문|\n",
      "+------+---------+-------+---------+-----------+-----------+---------+-------------+--------------+--------------+-------+--------+-----------+------------+------+----------+--------------+-------------+-----------+---------+------+--------+-----+\n",
      "|  2366|     null|   null|   4057.0|      312.0|     7190.0|     null|         23.0|        1880.0|         130.0|  171.0| 15619.0|       92.0|      3999.0|  57.0|   71405.0|          83.0|     119657.0|      334.0|   1367.0| 134.0| 20106.0| null|\n",
      "|  1580|     77.0|   11.0|     67.0|    74965.0|   113190.0|     null|        735.0|         119.0|          12.0| 6337.0|  5394.0|    13208.0|      9033.0|  48.0|    5501.0|        1551.0|      69149.0|     1678.0|   9068.0|4008.0|  8408.0|164.0|\n",
      "|  1238|     null| 3864.0|   1498.0|     2397.0|     3260.0|     15.0|         null|           6.0|        1191.0| 1122.0| 10253.0|       null|     42780.0|   6.0|    1814.0|         162.0|      63165.0|       39.0|   7019.0| 579.0| 17826.0| null|\n",
      "|  1829|      2.0|  610.0|     12.0|    23079.0|   300500.0|     null|       2062.0|         127.0|        3054.0|  173.0|233344.0|     8089.0|     22005.0|3081.0|      33.0|         367.0|     498517.0|      943.0|   2495.0|2292.0|196454.0|125.0|\n",
      "|   833|     20.0|   11.0|   4399.0|     5938.0|    39069.0|    124.0|        201.0|          73.0|         288.0| 1019.0|344208.0|       null|      1665.0|3486.0|    3680.0|        4738.0|     107589.0|     2483.0|   1035.0| 105.0| 51228.0| 21.0|\n",
      "|  2142|    811.0| 1932.0|   8061.0|     7694.0|    47313.0|   2047.0|        193.0|         893.0|          38.0|  180.0| 26692.0|      233.0|     80565.0|2578.0|    1007.0|          84.0|     136951.0|      606.0|    219.0| 240.0| 66136.0|131.0|\n",
      "|  1959|   4760.0| 8150.0|   8079.0|     5354.0|     7510.0|   2335.0|         38.0|        1143.0|          null|10860.0| 16415.0|      476.0|     54249.0|  null|    4177.0|        2511.0|     762579.0|      993.0|  12477.0|  null|549757.0| null|\n",
      "|   463|    346.0|   80.0|     null|      841.0|     2790.0|      4.0|        124.0|          null|         277.0| 3385.0| 77204.0|       null|     18959.0| 223.0|     469.0|         319.0|     126016.0|      648.0|    298.0|1650.0|110003.0| null|\n",
      "|  1342|    234.0|  137.0|    212.0|      343.0|    19097.0|   1314.0|        572.0|           7.0|         121.0| 2957.0| 63512.0|       10.0|     76408.0|1253.0|    1981.0|         149.0|     153785.0|     1028.0|   1327.0|  50.0| 73095.0| null|\n",
      "|  1591|      0.0|21966.0|    522.0|     1246.0|     7740.0|     null|      10099.0|          44.0|          null|  936.0| 13216.0|      898.0|     18436.0|1632.0|    4005.0|          null|      31093.0|      594.0|   2919.0|  10.0| 34775.0| null|\n",
      "|  1088|    196.0|   55.0|    637.0|     1636.0|    32806.0|     null|       4076.0|        2441.0|        3558.0|  634.0| 21089.0|      439.0|      4443.0| 827.0|    1008.0|        1073.0|     146243.0|      648.0|  40977.0|  77.0| 14013.0| null|\n",
      "|  1645|     null| 6722.0|    114.0|      111.0|    75206.0|     null|        373.0|          null|          null|  328.0|  5551.0|      192.0|     40992.0|  10.0|       9.0|         103.0|      52713.0|      652.0|     22.0|   1.0| 16024.0| null|\n",
      "|   148|    118.0|   34.0|    480.0|       null|   476014.0|     null|       1192.0|          null|         104.0|10680.0|  1224.0|     2050.0|    151810.0|  null|    3330.0|          null|     538458.0|      100.0|   7056.0|  null| 16812.0| null|\n",
      "|   471|     12.0|   10.0|     null|     7391.0|    21737.0|     null|          5.0|          19.0|          79.0|  821.0| 46769.0|       null|       274.0|  null|      null|         337.0|      19076.0|      461.0|   4675.0|   0.0| 13714.0| null|\n",
      "|  2122|     16.0| 1084.0|     91.0|     6642.0|    40532.0|     null|       4236.0|         744.0|          18.0| 9277.0| 25495.0|       null|      7105.0|   2.0|      46.0|        1115.0|      74315.0|      420.0|    264.0| 705.0| 26976.0| 33.0|\n",
      "|   496|     null|   18.0|     null|     2045.0|     3119.0|     null|         null|          null|          18.0|  163.0|301927.0|       null|      4735.0|2268.0|      84.0|        1486.0|     118494.0|     1081.0|    380.0|2225.0| 17991.0| null|\n",
      "|  2387|    192.0|   53.0|   2455.0|      252.0|    53076.0|     null|       4548.0|          83.0|           3.0|    0.0|  1154.0|       20.0|      3965.0|  null|    4736.0|          null|      48643.0|       20.0|   1637.0|  20.0| 21936.0| null|\n",
      "|   243|    456.0|68454.0|   2821.0|    20766.0|    38358.0|    355.0|       5148.0|        2508.0|        7887.0| 6907.0|257772.0|       null|     66750.0|2892.0|   15715.0|        2856.0|     347982.0|     1420.0|   4939.0|1006.0|135440.0| null|\n",
      "|  2235|     null|   61.0|   4352.0|       null|     2984.0|     null|         60.0|          null|         379.0| 1003.0|   708.0|      146.0|       577.0|  null|    1732.0|          null|      45729.0|      347.0|   1581.0|  null| 45491.0| null|\n",
      "|   737|      0.0|  681.0|    141.0|     3415.0|    63520.0|     null|       1281.0|          33.0|         530.0| 1626.0|  4023.0|       null|     18616.0| 366.0|    3702.0|          null|     450663.0|       98.0|   1021.0| 874.0| 30881.0| null|\n",
      "+------+---------+-------+---------+-----------+-----------+---------+-------------+--------------+--------------+-------+--------+-----------+------------+------+----------+--------------+-------------+-----------+---------+------+--------+-----+\n",
      "only showing top 20 rows\n",
      "\n"
     ]
    }
   ],
   "source": [
    "bact_dur = df.groupby([\"CUS_ID\"]).pivot(\"BACT_NM\").agg(F.sum(\"ST_TIME\"))\n",
    "bact_dur.show()"
   ]
  },
  {
   "cell_type": "code",
   "execution_count": 50,
   "id": "convertible-communist",
   "metadata": {},
   "outputs": [
    {
     "data": {
      "text/plain": [
       "['포털',\n",
       " '검색',\n",
       " '인터넷신문',\n",
       " '종합쇼핑',\n",
       " '블로그/SNS',\n",
       " '커뮤니케이션',\n",
       " '커뮤니티포털',\n",
       " '전문뉴스',\n",
       " '일간지',\n",
       " '의류 쇼핑몰',\n",
       " '은행',\n",
       " '다운로드',\n",
       " '가격비교',\n",
       " '멀티미디어/동영상',\n",
       " '방송',\n",
       " '온라인게임',\n",
       " '웹서비스',\n",
       " '취업',\n",
       " '분야별커뮤니티',\n",
       " '쇼핑정보',\n",
       " '게임포털',\n",
       " '지불/결제',\n",
       " '생활',\n",
       " '부동산',\n",
       " '금융',\n",
       " '모바일컨텐츠',\n",
       " '증권/주식',\n",
       " '영화',\n",
       " '솔루션',\n",
       " '만화/애니메이션',\n",
       " '공공서비스',\n",
       " '학술정보',\n",
       " '도서/음반/악기 쇼핑몰',\n",
       " 'SaaS/ASP',\n",
       " '정부/기관',\n",
       " '패션잡화 쇼핑몰',\n",
       " '음악',\n",
       " '취미/스포츠 쇼핑몰',\n",
       " '무선/이동통신',\n",
       " '자동차',\n",
       " '운송',\n",
       " '생활용품 쇼핑몰',\n",
       " '여행사',\n",
       " '도메인/호스팅',\n",
       " '화장품/미용 쇼핑몰',\n",
       " '어린이커뮤니티',\n",
       " '통신사',\n",
       " '쇼핑기타',\n",
       " '학생/교과교육',\n",
       " '도박']"
      ]
     },
     "execution_count": 50,
     "metadata": {},
     "output_type": "execute_result"
    }
   ],
   "source": [
    "tmp_list = df.groupBy('MACT_NM').count().orderBy('count', ascending=False).select('MACT_NM').collect()\n",
    "top50_mact = [row.MACT_NM for row in tmp_list][:50]\n",
    "top50_mact"
   ]
  },
  {
   "cell_type": "code",
   "execution_count": 51,
   "id": "whole-vertex",
   "metadata": {},
   "outputs": [],
   "source": [
    "mact_dur = df.groupby([\"CUS_ID\"]).pivot(\"MACT_NM\", top50_mact).agg(F.sum(\"ST_TIME\"))"
   ]
  },
  {
   "cell_type": "code",
   "execution_count": 52,
   "id": "acceptable-income",
   "metadata": {},
   "outputs": [],
   "source": [
    "tmp_list = df.groupBy('ACT_NM').count().orderBy('count', ascending=False).select('ACT_NM').collect()\n",
    "top500_act = [row.ACT_NM for row in tmp_list][:500]\n",
    "act_dur = df.groupby([\"CUS_ID\"]).pivot(\"ACT_NM\", top500_act).agg(F.sum(\"ST_TIME\"))"
   ]
  },
  {
   "cell_type": "markdown",
   "id": "valuable-adolescent",
   "metadata": {},
   "source": [
    "### Join grouped tables"
   ]
  },
  {
   "cell_type": "code",
   "execution_count": 55,
   "id": "literary-extraction",
   "metadata": {},
   "outputs": [
    {
     "name": "stdout",
     "output_type": "stream",
     "text": [
      "+------+-------+------------------+\n",
      "|CUS_ID| pg_sum|            pg_avg|\n",
      "+------+-------+------------------+\n",
      "|   148|28262.0|3.6533092037228543|\n",
      "|   463|21018.0|7.6152173913043475|\n",
      "|   471| 6183.0| 4.857030636292223|\n",
      "|   496|12942.0| 5.113393915448439|\n",
      "|   833|30720.0| 7.641791044776119|\n",
      "|  1088| 9471.0| 3.655345426476264|\n",
      "|  1238| 7967.0| 5.156634304207119|\n",
      "|  1342|29545.0| 5.223656294200849|\n",
      "|  1580|13739.0| 3.329052580566998|\n",
      "|  1591| 8637.0| 4.686380900705371|\n",
      "|  1645| 7985.0| 4.615606936416185|\n",
      "|  1829|57972.0| 5.352908587257618|\n",
      "|  1959|58172.0| 12.06387391124015|\n",
      "|  2122|10682.0|  6.25776215582894|\n",
      "|  2142|12048.0|4.3322545846817695|\n",
      "|  2366| 9126.0|3.3053241579137995|\n",
      "|   243|35911.0| 5.872608340147179|\n",
      "|   392| 9713.0| 5.114797261716693|\n",
      "|   540|30860.0| 5.068155690589588|\n",
      "|   623|27741.0| 7.661143330571665|\n",
      "+------+-------+------------------+\n",
      "only showing top 20 rows\n",
      "\n"
     ]
    }
   ],
   "source": [
    "t1 = pageview_sum.alias('pv_sum')\n",
    "t2 = pageview_avg.alias('pv_avg')\n",
    "\n",
    "t1.join(t2, 'CUS_ID').show() "
   ]
  },
  {
   "cell_type": "code",
   "execution_count": null,
   "id": "powered-procedure",
   "metadata": {},
   "outputs": [],
   "source": []
  }
 ],
 "metadata": {
  "kernelspec": {
   "display_name": "pyspark",
   "language": "python",
   "name": "pyspark"
  },
  "language_info": {
   "codemirror_mode": {
    "name": "ipython",
    "version": 3
   },
   "file_extension": ".py",
   "mimetype": "text/x-python",
   "name": "python",
   "nbconvert_exporter": "python",
   "pygments_lexer": "ipython3",
   "version": "3.6.13"
  }
 },
 "nbformat": 4,
 "nbformat_minor": 5
}
