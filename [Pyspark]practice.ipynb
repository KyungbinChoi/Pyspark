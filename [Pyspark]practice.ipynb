{
 "cells": [
  {
   "cell_type": "markdown",
   "id": "ruled-letters",
   "metadata": {},
   "source": [
    "## Pyspark 연습\n",
    "* Basic Data handling\n",
    "* Descriptive summary\n",
    "* Feature extraction\n",
    "* Build ML model\n",
    "\n",
    "* 참고\n",
    "    * https://spark.apache.org/docs/2.2.0/mllib-statistics.html\n",
    "    * https://jaeyung1001.tistory.com/59\n",
    "    * https://hendra-herviawan.github.io/pyspark-dataframe-row-columns.html\n",
    "    * https://hendra-herviawan.github.io/pyspark-groupby-and-aggregate-functions.html"
   ]
  },
  {
   "cell_type": "code",
   "execution_count": 1,
   "id": "instrumental-amazon",
   "metadata": {},
   "outputs": [
    {
     "data": {
      "text/html": [
       "\n",
       "            <div>\n",
       "                <p><b>SparkSession - in-memory</b></p>\n",
       "                \n",
       "        <div>\n",
       "            <p><b>SparkContext</b></p>\n",
       "\n",
       "            <p><a href=\"http://192.168.219.103:4040\">Spark UI</a></p>\n",
       "\n",
       "            <dl>\n",
       "              <dt>Version</dt>\n",
       "                <dd><code>v2.4.8</code></dd>\n",
       "              <dt>Master</dt>\n",
       "                <dd><code>local[*]</code></dd>\n",
       "              <dt>AppName</dt>\n",
       "                <dd><code>pyspark-shell</code></dd>\n",
       "            </dl>\n",
       "        </div>\n",
       "        \n",
       "            </div>\n",
       "        "
      ],
      "text/plain": [
       "<pyspark.sql.session.SparkSession at 0x2447dcce080>"
      ]
     },
     "execution_count": 1,
     "metadata": {},
     "output_type": "execute_result"
    }
   ],
   "source": [
    "from pyspark.sql import SparkSession\n",
    "spark = SparkSession.builder.getOrCreate()\n",
    "spark"
   ]
  },
  {
   "cell_type": "code",
   "execution_count": 2,
   "id": "extra-fleece",
   "metadata": {},
   "outputs": [
    {
     "data": {
      "text/plain": [
       "DataFrame[a: bigint, b: double, c: string, d: date, e: timestamp]"
      ]
     },
     "execution_count": 2,
     "metadata": {},
     "output_type": "execute_result"
    }
   ],
   "source": [
    "import pandas as pd\n",
    "from datetime import datetime, date\n",
    "pandas_df = pd.DataFrame({\n",
    "    'a': [1, 2, 3],\n",
    "    'b': [2., 3., 4.],\n",
    "    'c': ['string1', 'string2', 'string3'],\n",
    "    'd': [date(2000, 1, 1), date(2000, 2, 1), date(2000, 3, 1)],\n",
    "    'e': [datetime(2000, 1, 1, 12, 0), datetime(2000, 1, 2, 12, 0), datetime(2000, 1, 3, 12, 0)]\n",
    "})\n",
    "df = spark.createDataFrame(pandas_df)\n",
    "df"
   ]
  },
  {
   "cell_type": "code",
   "execution_count": 3,
   "id": "applied-muslim",
   "metadata": {},
   "outputs": [
    {
     "name": "stdout",
     "output_type": "stream",
     "text": [
      "root\n",
      " |-- a: long (nullable = true)\n",
      " |-- b: double (nullable = true)\n",
      " |-- c: string (nullable = true)\n",
      " |-- d: date (nullable = true)\n",
      " |-- e: timestamp (nullable = true)\n",
      "\n"
     ]
    }
   ],
   "source": [
    "df.printSchema()"
   ]
  },
  {
   "cell_type": "code",
   "execution_count": 4,
   "id": "baking-banks",
   "metadata": {},
   "outputs": [
    {
     "name": "stdout",
     "output_type": "stream",
     "text": [
      "+-------+\n",
      "|      c|\n",
      "+-------+\n",
      "|string1|\n",
      "|string2|\n",
      "|string3|\n",
      "+-------+\n",
      "\n"
     ]
    }
   ],
   "source": [
    "df.select(df.c).show()"
   ]
  },
  {
   "cell_type": "code",
   "execution_count": 5,
   "id": "backed-landscape",
   "metadata": {},
   "outputs": [
    {
     "name": "stdout",
     "output_type": "stream",
     "text": [
      "+---+---+-------+----------+-------------------+\n",
      "|  a|  b|      c|         d|                  e|\n",
      "+---+---+-------+----------+-------------------+\n",
      "|  1|2.0|string1|2000-01-01|2000-01-01 12:00:00|\n",
      "|  2|3.0|string2|2000-02-01|2000-01-02 12:00:00|\n",
      "|  3|4.0|string3|2000-03-01|2000-01-03 12:00:00|\n",
      "+---+---+-------+----------+-------------------+\n",
      "\n"
     ]
    }
   ],
   "source": [
    "df.show()"
   ]
  },
  {
   "cell_type": "code",
   "execution_count": 6,
   "id": "retired-circuit",
   "metadata": {},
   "outputs": [
    {
     "data": {
      "text/plain": [
       "3"
      ]
     },
     "execution_count": 6,
     "metadata": {},
     "output_type": "execute_result"
    }
   ],
   "source": [
    "df.repartition(1).count()"
   ]
  },
  {
   "cell_type": "code",
   "execution_count": 5,
   "id": "useful-parish",
   "metadata": {},
   "outputs": [],
   "source": [
    "df = spark.read.csv('./dataset/clickstream/total_datapoint.csv', inferSchema=True, header=True)"
   ]
  },
  {
   "cell_type": "code",
   "execution_count": 28,
   "id": "liberal-despite",
   "metadata": {},
   "outputs": [
    {
     "data": {
      "text/plain": [
       "8772446"
      ]
     },
     "execution_count": 28,
     "metadata": {},
     "output_type": "execute_result"
    }
   ],
   "source": [
    "df.count()"
   ]
  },
  {
   "cell_type": "code",
   "execution_count": 6,
   "id": "agreed-craps",
   "metadata": {},
   "outputs": [
    {
     "name": "stdout",
     "output_type": "stream",
     "text": [
      "root\n",
      " |-- _c0: integer (nullable = true)\n",
      " |-- CUS_ID: integer (nullable = true)\n",
      " |-- TIME_ID: integer (nullable = true)\n",
      " |-- SITE: string (nullable = true)\n",
      " |-- SITE_CNT: double (nullable = true)\n",
      " |-- ST_TIME: double (nullable = true)\n",
      " |-- SITE_NM: string (nullable = true)\n",
      " |-- BACT_NM: string (nullable = true)\n",
      " |-- MACT_NM: string (nullable = true)\n",
      " |-- ACT_NM: string (nullable = true)\n",
      " |-- AC_TIME: integer (nullable = true)\n",
      " |-- YY_MM_DD: integer (nullable = true)\n",
      " |-- DAY: integer (nullable = true)\n",
      "\n"
     ]
    }
   ],
   "source": [
    "df.printSchema()"
   ]
  },
  {
   "cell_type": "code",
   "execution_count": 7,
   "id": "pediatric-minute",
   "metadata": {},
   "outputs": [
    {
     "name": "stdout",
     "output_type": "stream",
     "text": [
      "+---+------+----------+--------------------+--------+-------+-----------------------+-------------+------------+-------------+-------+--------+---+\n",
      "|_c0|CUS_ID|   TIME_ID|                SITE|SITE_CNT|ST_TIME|                SITE_NM|      BACT_NM|     MACT_NM|       ACT_NM|AC_TIME|YY_MM_DD|DAY|\n",
      "+---+------+----------+--------------------+--------+-------+-----------------------+-------------+------------+-------------+-------+--------+---+\n",
      "|  0|     1|2012070905|    search.naver.com|     3.0|  794.0|            네이버 검색|인터넷/컴퓨터|        검색|     포털검색|      5|20120709|  0|\n",
      "|  1|     1|2012072507|     plus.google.com|     1.0|    1.0|              구글 Plus|     커뮤니티|  블로그/SNS|          SNS|      7|20120725|  2|\n",
      "|  2|     1|2012081116|joongang.joinsmsn...|     2.0|    5.0|               중앙일보|  뉴스/미디어|      일간지|   종합일간지|     16|20120811|  5|\n",
      "|  3|     1|2012090304|      news.naver.com|     5.0|  504.0|            네이버 뉴스|  뉴스/미디어|  인터넷신문|     포털뉴스|      4|20120903|  0|\n",
      "|  4|     1|2012090506|       news.nate.com|     1.0|    0.0|            네이트 뉴스|  뉴스/미디어|  인터넷신문|     포털뉴스|      6|20120905|  2|\n",
      "|  5|     1|2012091004|     plus.google.com|     2.0|   66.0|              구글 Plus|     커뮤니티|  블로그/SNS|          SNS|      4|20120910|  0|\n",
      "|  6|     1|2012092017|     plus.google.com|     2.0|   23.0|              구글 Plus|     커뮤니티|  블로그/SNS|          SNS|     17|20120920|  3|\n",
      "|  7|     1|2012122801|      news.naver.com|     3.0|  213.0|            네이버 뉴스|  뉴스/미디어|  인터넷신문|     포털뉴스|      1|20121228|  4|\n",
      "|  8|     1|2012123114|    search.naver.com|     1.0|    0.0|            네이버 검색|인터넷/컴퓨터|        검색|     포털검색|     14|20121231|  0|\n",
      "|  9|     1|2013061008|      blog.naver.com|     1.0|   46.0|          네이버 블로그|     커뮤니티|  블로그/SNS|   포털블로그|      8|20130610|  0|\n",
      "| 10|    10|2012091311|   bm.gametree.co.kr|     1.0|   12.0|        프로야구 매니저|         게임|  온라인게임|스포츠/레이싱|     11|20120913|  3|\n",
      "| 11|    10|2012100410|      news.naver.com|     6.0| 1127.0|            네이버 뉴스|  뉴스/미디어|  인터넷신문|     포털뉴스|     10|20121004|  3|\n",
      "| 12|    10|2012121811|koreajoongangdail...|     1.0|    6.0|조인스 코리아중앙데일리|  뉴스/미디어|    전문뉴스|외국신문/잡지|     11|20121218|  1|\n",
      "| 13|    10|2013010809| ma9gm.netmarble.net|     7.0|  291.0|  넷마블 마구감독이되자|         게임|  온라인게임|스포츠/레이싱|      9|20130108|  1|\n",
      "| 14|    10|2013011019| isplus.joinsmsn.com|     1.0|   12.0|             일간스포츠|  뉴스/미디어|    전문뉴스|   스포츠신문|     19|20130110|  3|\n",
      "| 15|    10|2013011809|   bm.gametree.co.kr|     4.0|  546.0|        프로야구 매니저|         게임|  온라인게임|스포츠/레이싱|      9|20130118|  4|\n",
      "| 16|   100|2012081810|      apps.naver.com|     1.0|    3.0|        네이버 앱팩토리|인터넷/컴퓨터|    웹서비스|  소셜앱/위젯|     10|20120818|  5|\n",
      "| 17|   100|2012082111|       hon.mgame.com|     3.0|   76.0|                   귀혼|         게임|  온라인게임|       MMORPG|     11|20120821|  1|\n",
      "| 18|   100|2012082414|section.blog.nave...|     1.0|    0.0|          네이버 블로그|     커뮤니티|  블로그/SNS|   포털블로그|     14|20120824|  4|\n",
      "| 19|   100|2012090809|      mail3.nate.com|     1.0|    4.0|            네이트 메일|인터넷/컴퓨터|커뮤니케이션|     메일계정|      9|20120908|  5|\n",
      "+---+------+----------+--------------------+--------+-------+-----------------------+-------------+------------+-------------+-------+--------+---+\n",
      "only showing top 20 rows\n",
      "\n"
     ]
    }
   ],
   "source": [
    "df.show()"
   ]
  },
  {
   "cell_type": "code",
   "execution_count": 14,
   "id": "incredible-absolute",
   "metadata": {},
   "outputs": [],
   "source": [
    "from pyspark.sql.types import StringType\n",
    "df = df.withColumn('TIME_ID', df['TIME_ID'].cast(StringType()))"
   ]
  },
  {
   "cell_type": "code",
   "execution_count": 15,
   "id": "powered-causing",
   "metadata": {},
   "outputs": [
    {
     "name": "stdout",
     "output_type": "stream",
     "text": [
      "root\n",
      " |-- _c0: integer (nullable = true)\n",
      " |-- CUS_ID: integer (nullable = true)\n",
      " |-- TIME_ID: string (nullable = true)\n",
      " |-- SITE: string (nullable = true)\n",
      " |-- SITE_CNT: double (nullable = true)\n",
      " |-- ST_TIME: double (nullable = true)\n",
      " |-- SITE_NM: string (nullable = true)\n",
      " |-- BACT_NM: string (nullable = true)\n",
      " |-- MACT_NM: string (nullable = true)\n",
      " |-- ACT_NM: string (nullable = true)\n",
      " |-- AC_TIME: integer (nullable = true)\n",
      " |-- YY_MM_DD: integer (nullable = true)\n",
      " |-- DAY: integer (nullable = true)\n",
      "\n"
     ]
    }
   ],
   "source": [
    "df.printSchema()"
   ]
  },
  {
   "cell_type": "code",
   "execution_count": 16,
   "id": "running-uniform",
   "metadata": {},
   "outputs": [],
   "source": [
    "from pyspark.sql import functions as F\n",
    "df = df.withColumn('new_date',F.to_date(F.unix_timestamp('TIME_ID', 'yyyyMMddHH').cast('timestamp')))"
   ]
  },
  {
   "cell_type": "code",
   "execution_count": 17,
   "id": "instructional-angola",
   "metadata": {},
   "outputs": [
    {
     "name": "stdout",
     "output_type": "stream",
     "text": [
      "root\n",
      " |-- _c0: integer (nullable = true)\n",
      " |-- CUS_ID: integer (nullable = true)\n",
      " |-- TIME_ID: string (nullable = true)\n",
      " |-- SITE: string (nullable = true)\n",
      " |-- SITE_CNT: double (nullable = true)\n",
      " |-- ST_TIME: double (nullable = true)\n",
      " |-- SITE_NM: string (nullable = true)\n",
      " |-- BACT_NM: string (nullable = true)\n",
      " |-- MACT_NM: string (nullable = true)\n",
      " |-- ACT_NM: string (nullable = true)\n",
      " |-- AC_TIME: integer (nullable = true)\n",
      " |-- YY_MM_DD: integer (nullable = true)\n",
      " |-- DAY: integer (nullable = true)\n",
      " |-- new_date: date (nullable = true)\n",
      "\n"
     ]
    }
   ],
   "source": [
    "df.printSchema()"
   ]
  },
  {
   "cell_type": "code",
   "execution_count": 8,
   "id": "knowing-chamber",
   "metadata": {},
   "outputs": [
    {
     "name": "stdout",
     "output_type": "stream",
     "text": [
      "+-------+------------------+------------------+--------------------+-------------+------------------+------------------+-----------------+---------+-------+--------------------+-----------------+-------------------+------------------+\n",
      "|summary|               _c0|            CUS_ID|             TIME_ID|         SITE|          SITE_CNT|           ST_TIME|          SITE_NM|  BACT_NM|MACT_NM|              ACT_NM|          AC_TIME|           YY_MM_DD|               DAY|\n",
      "+-------+------------------+------------------+--------------------+-------------+------------------+------------------+-----------------+---------+-------+--------------------+-----------------+-------------------+------------------+\n",
      "|  count|           8772446|           8772446|             8772446|      8772446|           8772446|           8772439|          8772446|  8772446|8772446|             8772446|          8772446|            8772446|           8772446|\n",
      "|   mean|4066912.0803559236|1239.7318502730025|2.0125272150174336E9|         null| 5.478712094665502|134.85187802388822|92563.24561403508|     null|   null|                null|13.65875082046672|2.012527069414266E7|2.4719375873046125|\n",
      "| stddev|2512175.4803153165| 730.6480192240923|   466576.6529994813|         null|11.282212254464055| 299.9778640844884|942953.8971450401|     null|   null|                null|5.253843148457847|  4665.472537718423|1.7965582093128143|\n",
      "|    min|                 0|                 1|          2012070100|007skyfall.kr|               1.0|               0.0|         드림앤락|건강/의학|    B2B|             A/S센터|                0|           20120701|                 0|\n",
      "|    max|           8440580|              2500|          2013063023|     zzve.com|            1158.0|           25274.0|     힙합플레이야|     학문|   환경|휴대폰악세사리쇼핑몰|               23|           20130630|                 6|\n",
      "+-------+------------------+------------------+--------------------+-------------+------------------+------------------+-----------------+---------+-------+--------------------+-----------------+-------------------+------------------+\n",
      "\n"
     ]
    }
   ],
   "source": [
    "df.describe().show()"
   ]
  },
  {
   "cell_type": "code",
   "execution_count": 27,
   "id": "featured-indonesian",
   "metadata": {},
   "outputs": [
    {
     "name": "stdout",
     "output_type": "stream",
     "text": [
      "+-------+------------------+\n",
      "|summary|          SITE_CNT|\n",
      "+-------+------------------+\n",
      "|  count|           8772446|\n",
      "|   mean| 5.478712094665502|\n",
      "| stddev|11.282212254464055|\n",
      "|    min|               1.0|\n",
      "|    max|            1158.0|\n",
      "+-------+------------------+\n",
      "\n"
     ]
    }
   ],
   "source": [
    "df.describe(['SITE_CNT']).show()"
   ]
  },
  {
   "cell_type": "code",
   "execution_count": 29,
   "id": "employed-announcement",
   "metadata": {},
   "outputs": [
    {
     "name": "stdout",
     "output_type": "stream",
     "text": [
      "+-------+------------------+\n",
      "|summary|           ST_TIME|\n",
      "+-------+------------------+\n",
      "|  count|           8772439|\n",
      "|   mean|134.85187802388822|\n",
      "| stddev| 299.9778640844884|\n",
      "|    min|               0.0|\n",
      "|    max|           25274.0|\n",
      "+-------+------------------+\n",
      "\n"
     ]
    }
   ],
   "source": [
    "df.describe(['ST_TIME']).show()"
   ]
  },
  {
   "cell_type": "code",
   "execution_count": 20,
   "id": "purple-baker",
   "metadata": {},
   "outputs": [
    {
     "name": "stdout",
     "output_type": "stream",
     "text": [
      "+-----------------+-------+\n",
      "|             SITE|  count|\n",
      "+-----------------+-------+\n",
      "|    www.naver.com|1169663|\n",
      "| search.naver.com| 611978|\n",
      "|     www.daum.net| 547982|\n",
      "|     www.nate.com| 283289|\n",
      "|   blog.naver.com| 239893|\n",
      "|  search.daum.net| 184816|\n",
      "|   cafe.naver.com| 177760|\n",
      "|   media.daum.net| 171983|\n",
      "|   mail.naver.com| 157803|\n",
      "|sstatic.naver.com| 153910|\n",
      "|    kin.naver.com| 149198|\n",
      "|   mail2.daum.net| 141135|\n",
      "|    cafe.daum.net| 114749|\n",
      "|   news.naver.com| 109648|\n",
      "|   mail3.nate.com| 100717|\n",
      "| www.facebook.com|  83023|\n",
      "|   www.11st.co.kr|  80509|\n",
      "|www.gmarket.co.kr|  78882|\n",
      "|    news.nate.com|  76211|\n",
      "|    map.naver.com|  70262|\n",
      "+-----------------+-------+\n",
      "only showing top 20 rows\n",
      "\n"
     ]
    }
   ],
   "source": [
    "df.groupBy('SITE').count().orderBy('count', ascending=False).show()"
   ]
  },
  {
   "cell_type": "code",
   "execution_count": 21,
   "id": "protective-publicity",
   "metadata": {},
   "outputs": [
    {
     "name": "stdout",
     "output_type": "stream",
     "text": [
      "+---------------+-------+\n",
      "|        SITE_NM|  count|\n",
      "+---------------+-------+\n",
      "|         네이버|1171030|\n",
      "|    네이버 검색| 982165|\n",
      "|           다음| 548509|\n",
      "|         네이트| 283489|\n",
      "|  네이버 블로그| 251179|\n",
      "|      다음 검색| 208533|\n",
      "|    네이버 카페| 182038|\n",
      "|     미디어다음| 171983|\n",
      "|      다음 메일| 163606|\n",
      "|    네이버 메일| 161696|\n",
      "|      다음 카페| 144828|\n",
      "|    네이버 뉴스| 134934|\n",
      "|    네이트 메일| 131739|\n",
      "|    네이트 뉴스| 129788|\n",
      "|          G마켓|  83757|\n",
      "|       페이스북|  83268|\n",
      "|  네이버 지식iN|  81095|\n",
      "|         11번가|  80637|\n",
      "|네이버 지식쇼핑|  62060|\n",
      "|     KB국민은행|  53519|\n",
      "+---------------+-------+\n",
      "only showing top 20 rows\n",
      "\n"
     ]
    }
   ],
   "source": [
    "df.groupBy('SITE_NM').count().orderBy('count', ascending=False).show()"
   ]
  },
  {
   "cell_type": "code",
   "execution_count": 22,
   "id": "criminal-excess",
   "metadata": {},
   "outputs": [
    {
     "name": "stdout",
     "output_type": "stream",
     "text": [
      "+--------------+-------+\n",
      "|       BACT_NM|  count|\n",
      "+--------------+-------+\n",
      "| 인터넷/컴퓨터|4189770|\n",
      "|   뉴스/미디어|1292845|\n",
      "|          쇼핑|1128331|\n",
      "|      커뮤니티| 975819|\n",
      "|   금융/부동산| 317316|\n",
      "|  엔터테인먼트| 205825|\n",
      "|          게임| 124541|\n",
      "| 비즈니스/경제|  87964|\n",
      "|     정치/행정|  80489|\n",
      "|    온라인교육|  60128|\n",
      "|   정보통신/IT|  55450|\n",
      "|        서비스|  46611|\n",
      "|생활/가정/취미|  37293|\n",
      "|          여행|  36060|\n",
      "|     교육/학원|  29876|\n",
      "|유통/판매/운송|  28359|\n",
      "|          제조|  23227|\n",
      "|     건강/의학|  17802|\n",
      "|   스포츠/레저|  15501|\n",
      "|사회/문화/종교|  12657|\n",
      "+--------------+-------+\n",
      "only showing top 20 rows\n",
      "\n"
     ]
    }
   ],
   "source": [
    "df.groupBy('BACT_NM').count().orderBy('count', ascending=False).show()"
   ]
  },
  {
   "cell_type": "code",
   "execution_count": 23,
   "id": "quality-calculation",
   "metadata": {},
   "outputs": [
    {
     "name": "stdout",
     "output_type": "stream",
     "text": [
      "+-----------------+-------+\n",
      "|          MACT_NM|  count|\n",
      "+-----------------+-------+\n",
      "|             포털|2080020|\n",
      "|             검색|1363454|\n",
      "|       인터넷신문| 560634|\n",
      "|         종합쇼핑| 520596|\n",
      "|       블로그/SNS| 511496|\n",
      "|     커뮤니케이션| 486011|\n",
      "|     커뮤니티포털| 388400|\n",
      "|         전문뉴스| 339706|\n",
      "|           일간지| 288721|\n",
      "|      의류 쇼핑몰| 266511|\n",
      "|             은행| 137752|\n",
      "|         다운로드| 113847|\n",
      "|         가격비교| 103431|\n",
      "|멀티미디어/동영상|  85128|\n",
      "|             방송|  76139|\n",
      "|       온라인게임|  60406|\n",
      "|         웹서비스|  53473|\n",
      "|             취업|  51231|\n",
      "|   분야별커뮤니티|  49216|\n",
      "|         쇼핑정보|  48528|\n",
      "+-----------------+-------+\n",
      "only showing top 20 rows\n",
      "\n"
     ]
    }
   ],
   "source": [
    "df.groupBy('MACT_NM').count().orderBy('count', ascending=False).show()"
   ]
  },
  {
   "cell_type": "code",
   "execution_count": 24,
   "id": "exotic-green",
   "metadata": {},
   "outputs": [
    {
     "name": "stdout",
     "output_type": "stream",
     "text": [
      "+---------------+-------+\n",
      "|         ACT_NM|  count|\n",
      "+---------------+-------+\n",
      "|       종합포털|2079071|\n",
      "|       포털검색|1235966|\n",
      "|       메일계정| 478821|\n",
      "|       포털뉴스| 452782|\n",
      "|   포털커뮤니티| 334921|\n",
      "|     포털블로그| 304635|\n",
      "|       오픈마켓| 255832|\n",
      "| 여성의류쇼핑몰| 179458|\n",
      "|     종합일간지| 166708|\n",
      "|            SNS| 141637|\n",
      "|     종합쇼핑몰| 130269|\n",
      "|       시중은행| 129963|\n",
      "|     스포츠신문| 122358|\n",
      "|       경제신문| 121289|\n",
      "|     소셜커머스| 114148|\n",
      "| 종합인터넷신문| 106116|\n",
      "|   포털지식검색|  93483|\n",
      "|       포털쇼핑|  69933|\n",
      "|  동영상/비디오|  68634|\n",
      "|컨텐츠공유(P2P)|  56878|\n",
      "+---------------+-------+\n",
      "only showing top 20 rows\n",
      "\n"
     ]
    }
   ],
   "source": [
    "df.groupBy('ACT_NM').count().orderBy('count', ascending=False).show()"
   ]
  },
  {
   "cell_type": "markdown",
   "id": "apart-library",
   "metadata": {},
   "source": [
    "## GROUPING 을 통한 Feature 생성하기\n",
    "* PAGEVIEW\n",
    "* DURATION\n",
    "* 시간대별 PAGEVIEW / DURATION\n",
    "* 요일별 PAGEVIEW / DURATION\n",
    "* Top BACT_NM 50 duration 합 / pageview 합\n",
    "* Top MACT_NM 100 duration 합 / pageview 합\n",
    "* Top ACT_NM 500 duration 합 / pageview 합"
   ]
  },
  {
   "cell_type": "code",
   "execution_count": null,
   "id": "beginning-entry",
   "metadata": {},
   "outputs": [],
   "source": []
  }
 ],
 "metadata": {
  "kernelspec": {
   "display_name": "pyspark",
   "language": "python",
   "name": "pyspark"
  },
  "language_info": {
   "codemirror_mode": {
    "name": "ipython",
    "version": 3
   },
   "file_extension": ".py",
   "mimetype": "text/x-python",
   "name": "python",
   "nbconvert_exporter": "python",
   "pygments_lexer": "ipython3",
   "version": "3.6.13"
  }
 },
 "nbformat": 4,
 "nbformat_minor": 5
}
